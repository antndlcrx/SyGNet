{
 "cells": [
  {
   "cell_type": "markdown",
   "metadata": {},
   "source": [
    "# Using SyGNet\n",
    "\n",
    "This notebook demonstrates the basic functionality of the *sygnet* pacage in Python.\n",
    "\n",
    "To download the package, simply run `pip install sygnet` at the command line.\n",
    "\n",
    "## Prerequisites\n",
    "\n",
    "First, we will focus on a very simple case of learning a parametric relationship between numeric variables.\n",
    "\n",
    "To start, we will define a data generating process:"
   ]
  },
  {
   "cell_type": "code",
   "execution_count": 1,
   "metadata": {},
   "outputs": [],
   "source": [
    "%%capture\n",
    "%cd ..\n",
    "\n",
    "import pandas as pd\n",
    "import numpy as np\n",
    "from numpy.random import default_rng\n",
    "\n",
    "from src.sygnet.sygnet_interface import SygnetModel\n",
    "rng = default_rng()\n",
    "\n",
    "def gen_sim_data(rng, n=100000):\n",
    "    x1 = rng.uniform(low = 0, high = 1, size = n)\n",
    "    x2 = rng.uniform(low = 0, high = 1, size = n)\n",
    "    x3 = rng.normal(loc = x1 + x2, scale = 0.1)\n",
    "    y = rng.normal(loc=3*x1 + 2*x2 + 1, scale = 1)\n",
    "    sim_data = np.column_stack((y,x1,x2,x3)).astype(np.float32)\n",
    "    sim_data = pd.DataFrame(sim_data)\n",
    "    return sim_data\n",
    "\n",
    "sim_data = gen_sim_data(rng)\n"
   ]
  },
  {
   "cell_type": "markdown",
   "metadata": {},
   "source": [
    "## **sygnet** pipeline\n",
    "\n",
    "We follow a very similar pipeline to sci-kit learn: \n",
    "\n",
    "1. Instantiate a model:\n",
    "   * Users must specify what type of GAN architecture to use: we recommend \"wgan\" for non-conditional synthetic data, and \"cgan\" when conditional labels will be supplied \n",
    "   * Optional arguments allow the user to customise the hidden layer structure, dropout proportions, layer norming, ReLU leakage, and whether to range match the final output\n",
    "2. Fit the model to the training data\n",
    "   * Users must supply the training data\n",
    "   * Optional arguments allow the user to alter the default hyperparameters (epochs, learning rate, batch size etc.)\n",
    "3. Sample from the trained model\n",
    "   * Users must specify the number of synthetic observations to draw from the model\n",
    "   * Optional arguments allow the user to control the format of the returned results, as well as to save the synthetic data to disk\n",
    "\n"
   ]
  },
  {
   "cell_type": "markdown",
   "metadata": {},
   "source": [
    "## Basic example\n",
    "\n",
    "In this first example, we set `mode = \"wgan\"` to use the Wassterstein GAN architecture. We fit the model to our simulated data, for a single epoch (real uses will require more epochs), and then generate 100 synthetic observations:"
   ]
  },
  {
   "cell_type": "code",
   "execution_count": 7,
   "metadata": {},
   "outputs": [
    {
     "name": "stderr",
     "output_type": "stream",
     "text": [
      "Epoch: 100%|██████████| 1/1 [00:07<00:00,  7.42s/it]\n"
     ]
    },
    {
     "data": {
      "text/html": [
       "<div>\n",
       "<style scoped>\n",
       "    .dataframe tbody tr th:only-of-type {\n",
       "        vertical-align: middle;\n",
       "    }\n",
       "\n",
       "    .dataframe tbody tr th {\n",
       "        vertical-align: top;\n",
       "    }\n",
       "\n",
       "    .dataframe thead th {\n",
       "        text-align: right;\n",
       "    }\n",
       "</style>\n",
       "<table border=\"1\" class=\"dataframe\">\n",
       "  <thead>\n",
       "    <tr style=\"text-align: right;\">\n",
       "      <th></th>\n",
       "      <th>0</th>\n",
       "      <th>1</th>\n",
       "      <th>2</th>\n",
       "      <th>3</th>\n",
       "    </tr>\n",
       "  </thead>\n",
       "  <tbody>\n",
       "    <tr>\n",
       "      <th>0</th>\n",
       "      <td>0.908301</td>\n",
       "      <td>1.387488</td>\n",
       "      <td>1.448862</td>\n",
       "      <td>0.0</td>\n",
       "    </tr>\n",
       "    <tr>\n",
       "      <th>1</th>\n",
       "      <td>1.068194</td>\n",
       "      <td>1.387225</td>\n",
       "      <td>1.757479</td>\n",
       "      <td>0.0</td>\n",
       "    </tr>\n",
       "    <tr>\n",
       "      <th>2</th>\n",
       "      <td>0.850510</td>\n",
       "      <td>0.642854</td>\n",
       "      <td>1.224454</td>\n",
       "      <td>0.0</td>\n",
       "    </tr>\n",
       "    <tr>\n",
       "      <th>3</th>\n",
       "      <td>1.105018</td>\n",
       "      <td>0.795381</td>\n",
       "      <td>1.106114</td>\n",
       "      <td>0.0</td>\n",
       "    </tr>\n",
       "    <tr>\n",
       "      <th>4</th>\n",
       "      <td>1.028862</td>\n",
       "      <td>1.671490</td>\n",
       "      <td>1.553509</td>\n",
       "      <td>0.0</td>\n",
       "    </tr>\n",
       "  </tbody>\n",
       "</table>\n",
       "</div>"
      ],
      "text/plain": [
       "          0         1         2    3\n",
       "0  0.908301  1.387488  1.448862  0.0\n",
       "1  1.068194  1.387225  1.757479  0.0\n",
       "2  0.850510  0.642854  1.224454  0.0\n",
       "3  1.105018  0.795381  1.106114  0.0\n",
       "4  1.028862  1.671490  1.553509  0.0"
      ]
     },
     "execution_count": 7,
     "metadata": {},
     "output_type": "execute_result"
    }
   ],
   "source": [
    "model = SygnetModel(mode = \"wgan\")\n",
    "model.fit(data = sim_data, epochs = 1)\n",
    "synth_data = model.sample(nobs = 100)\n",
    "\n",
    "synth_data.head()"
   ]
  },
  {
   "cell_type": "markdown",
   "metadata": {},
   "source": [
    "### GPU support\n",
    "\n",
    "**sygnet** allows users to train the model using GPU computation, which should improve training times considerably. To run the synthetic generator on the GPU, we simply fit the model with the parameter `device = 'cuda'`. Here we are able to run 50 epochs in about 45 seconds:"
   ]
  },
  {
   "cell_type": "code",
   "execution_count": 6,
   "metadata": {},
   "outputs": [
    {
     "name": "stderr",
     "output_type": "stream",
     "text": [
      "Epoch: 100%|██████████| 50/50 [00:44<00:00,  1.12it/s]\n"
     ]
    },
    {
     "data": {
      "text/html": [
       "<div>\n",
       "<style scoped>\n",
       "    .dataframe tbody tr th:only-of-type {\n",
       "        vertical-align: middle;\n",
       "    }\n",
       "\n",
       "    .dataframe tbody tr th {\n",
       "        vertical-align: top;\n",
       "    }\n",
       "\n",
       "    .dataframe thead th {\n",
       "        text-align: right;\n",
       "    }\n",
       "</style>\n",
       "<table border=\"1\" class=\"dataframe\">\n",
       "  <thead>\n",
       "    <tr style=\"text-align: right;\">\n",
       "      <th></th>\n",
       "      <th>0</th>\n",
       "      <th>1</th>\n",
       "      <th>2</th>\n",
       "      <th>3</th>\n",
       "    </tr>\n",
       "  </thead>\n",
       "  <tbody>\n",
       "    <tr>\n",
       "      <th>0</th>\n",
       "      <td>3.337108</td>\n",
       "      <td>0.397411</td>\n",
       "      <td>0.0</td>\n",
       "      <td>0.604935</td>\n",
       "    </tr>\n",
       "    <tr>\n",
       "      <th>1</th>\n",
       "      <td>3.601906</td>\n",
       "      <td>0.480042</td>\n",
       "      <td>0.0</td>\n",
       "      <td>0.662759</td>\n",
       "    </tr>\n",
       "    <tr>\n",
       "      <th>2</th>\n",
       "      <td>3.922121</td>\n",
       "      <td>0.637514</td>\n",
       "      <td>0.0</td>\n",
       "      <td>1.243936</td>\n",
       "    </tr>\n",
       "    <tr>\n",
       "      <th>3</th>\n",
       "      <td>3.219973</td>\n",
       "      <td>0.334941</td>\n",
       "      <td>0.0</td>\n",
       "      <td>0.624882</td>\n",
       "    </tr>\n",
       "    <tr>\n",
       "      <th>4</th>\n",
       "      <td>3.395032</td>\n",
       "      <td>0.688927</td>\n",
       "      <td>0.0</td>\n",
       "      <td>1.101919</td>\n",
       "    </tr>\n",
       "  </tbody>\n",
       "</table>\n",
       "</div>"
      ],
      "text/plain": [
       "          0         1    2         3\n",
       "0  3.337108  0.397411  0.0  0.604935\n",
       "1  3.601906  0.480042  0.0  0.662759\n",
       "2  3.922121  0.637514  0.0  1.243936\n",
       "3  3.219973  0.334941  0.0  0.624882\n",
       "4  3.395032  0.688927  0.0  1.101919"
      ]
     },
     "execution_count": 6,
     "metadata": {},
     "output_type": "execute_result"
    }
   ],
   "source": [
    "model_gpu = SygnetModel(mode = \"wgan\")\n",
    "model_gpu.fit(data = sim_data, epochs = 50, device='cuda')\n",
    "synth_data = model_gpu.sample(nobs = 100)\n",
    "\n",
    "synth_data.head()"
   ]
  }
 ],
 "metadata": {
  "interpreter": {
   "hash": "2ae1b0b5a0606c2753749f3391e09e88dfd388b1a3a29c5d6e8dce6eac02598d"
  },
  "kernelspec": {
   "display_name": "Python 3.9.12 ('dl')",
   "language": "python",
   "name": "python3"
  },
  "language_info": {
   "codemirror_mode": {
    "name": "ipython",
    "version": 3
   },
   "file_extension": ".py",
   "mimetype": "text/x-python",
   "name": "python",
   "nbconvert_exporter": "python",
   "pygments_lexer": "ipython3",
   "version": "3.9.12"
  },
  "orig_nbformat": 4
 },
 "nbformat": 4,
 "nbformat_minor": 2
}
