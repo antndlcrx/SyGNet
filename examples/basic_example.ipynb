{
 "cells": [
  {
   "cell_type": "markdown",
   "metadata": {},
   "source": [
    "# Using SyGNet\n",
    "\n",
    "This notebook demonstrates the basic functionality of the **sygnet** package in Python.\n",
    "\n",
    "To download the package, simply run `pip install sygnet` at the command line.\n",
    "\n",
    "## Prerequisites\n",
    "\n",
    "First, we will focus on a very simple case of learning a parametric relationship between numeric variables. To start, we load the required packages and define a data generating process (DGP). The DGP comprises random uniform variables (`x1` and `x2`), which in turn impact the value of two other variables (`x3` and `y`). Finally, we take 100,000 draws from this DGP to use as our training data:"
   ]
  },
  {
   "cell_type": "code",
   "execution_count": 9,
   "metadata": {},
   "outputs": [],
   "source": [
    "%%capture\n",
    "%cd ..\n",
    "\n",
    "import pandas as pd\n",
    "import numpy as np\n",
    "from numpy.random import default_rng\n",
    "\n",
    "# NB: once installed via pip, can run `from sygnet import SygnetModel`\n",
    "from src.sygnet.sygnet_interface import SygnetModel\n",
    "rng = default_rng()\n",
    "\n",
    "def gen_sim_data(rng, n=100000):\n",
    "    \n",
    "    x1 = rng.uniform(low = 0, high = 1, size = n)\n",
    "    x2 = rng.uniform(low = 0, high = 1, size = n)\n",
    "    x3 = rng.normal(loc = x1 + x2, scale = 0.1)\n",
    "    y = rng.normal(loc=3*x1 + 2*x2 + 1, scale = 1)\n",
    "\n",
    "    sim_data = pd.DataFrame({\n",
    "        'x1' : x1,\n",
    "        'x2' : x2,\n",
    "        'x3' : x3,\n",
    "        'y' : y\n",
    "    })   \n",
    "\n",
    "    return sim_data\n",
    "\n",
    "sim_data = gen_sim_data(rng)\n",
    "sim_data.head()\n"
   ]
  },
  {
   "cell_type": "markdown",
   "metadata": {},
   "source": [
    "## **sygnet** pipeline\n",
    "\n",
    "We follow a very similar pipeline to sci-kit learn: \n",
    "\n",
    "1. Instantiate a model:\n",
    "   * Users must specify what type of GAN architecture to use: we recommend \"wgan\" for non-conditional synthetic data, and \"cgan\" when conditional labels will be supplied \n",
    "   * Optional arguments allow the user to customise the hidden layer structure, dropout proportions, layer norming, ReLU leakage, and whether to range match the final output\n",
    "2. Fit the model to the training data\n",
    "   * Users must supply the training data\n",
    "   * Optional arguments allow the user to alter the default hyperparameters (epochs, learning rate, batch size etc.)\n",
    "3. Sample from the trained model\n",
    "   * Users must specify the number of synthetic observations to draw from the model\n",
    "   * Optional arguments allow the user to control the format of the returned results, as well as to save the synthetic data to disk\n",
    "\n"
   ]
  },
  {
   "cell_type": "markdown",
   "metadata": {},
   "source": [
    "## Basic example\n",
    "\n",
    "In this first example, we set `mode = \"wgan\"` to use the Wassterstein GAN architecture. We fit the model to our simulated data, for a single epoch (real uses will require more epochs), and then generate 100 synthetic observations:"
   ]
  },
  {
   "cell_type": "code",
   "execution_count": 2,
   "metadata": {},
   "outputs": [
    {
     "name": "stderr",
     "output_type": "stream",
     "text": [
      "Epoch: 100%|██████████| 1/1 [00:07<00:00,  7.63s/it]\n"
     ]
    },
    {
     "data": {
      "text/html": [
       "<div>\n",
       "<style scoped>\n",
       "    .dataframe tbody tr th:only-of-type {\n",
       "        vertical-align: middle;\n",
       "    }\n",
       "\n",
       "    .dataframe tbody tr th {\n",
       "        vertical-align: top;\n",
       "    }\n",
       "\n",
       "    .dataframe thead th {\n",
       "        text-align: right;\n",
       "    }\n",
       "</style>\n",
       "<table border=\"1\" class=\"dataframe\">\n",
       "  <thead>\n",
       "    <tr style=\"text-align: right;\">\n",
       "      <th></th>\n",
       "      <th>0</th>\n",
       "      <th>1</th>\n",
       "      <th>2</th>\n",
       "      <th>3</th>\n",
       "    </tr>\n",
       "  </thead>\n",
       "  <tbody>\n",
       "    <tr>\n",
       "      <th>0</th>\n",
       "      <td>0.864504</td>\n",
       "      <td>1.126964</td>\n",
       "      <td>0.000000</td>\n",
       "      <td>0.0</td>\n",
       "    </tr>\n",
       "    <tr>\n",
       "      <th>1</th>\n",
       "      <td>1.663468</td>\n",
       "      <td>1.920510</td>\n",
       "      <td>0.072198</td>\n",
       "      <td>0.0</td>\n",
       "    </tr>\n",
       "    <tr>\n",
       "      <th>2</th>\n",
       "      <td>1.132081</td>\n",
       "      <td>1.183887</td>\n",
       "      <td>0.000000</td>\n",
       "      <td>0.0</td>\n",
       "    </tr>\n",
       "    <tr>\n",
       "      <th>3</th>\n",
       "      <td>0.504572</td>\n",
       "      <td>1.792356</td>\n",
       "      <td>0.000000</td>\n",
       "      <td>0.0</td>\n",
       "    </tr>\n",
       "    <tr>\n",
       "      <th>4</th>\n",
       "      <td>0.291027</td>\n",
       "      <td>1.290172</td>\n",
       "      <td>0.349143</td>\n",
       "      <td>0.0</td>\n",
       "    </tr>\n",
       "  </tbody>\n",
       "</table>\n",
       "</div>"
      ],
      "text/plain": [
       "          0         1         2    3\n",
       "0  0.864504  1.126964  0.000000  0.0\n",
       "1  1.663468  1.920510  0.072198  0.0\n",
       "2  1.132081  1.183887  0.000000  0.0\n",
       "3  0.504572  1.792356  0.000000  0.0\n",
       "4  0.291027  1.290172  0.349143  0.0"
      ]
     },
     "execution_count": 2,
     "metadata": {},
     "output_type": "execute_result"
    }
   ],
   "source": [
    "model = SygnetModel(mode = \"wgan\")\n",
    "model.fit(data = sim_data, epochs = 1)\n",
    "synth_data = model.sample(nobs = 100)\n",
    "\n",
    "synth_data.head()"
   ]
  },
  {
   "cell_type": "markdown",
   "metadata": {},
   "source": [
    "### GPU support\n",
    "\n",
    "**sygnet** allows users to train the model using GPU computation, which should improve training times considerably. To run the synthetic generator on the GPU, we simply fit the model with the parameter `device = 'cuda'`. Here we are able to run 10 epochs in about as long as it takes to run 1 epoch on the CPU:"
   ]
  },
  {
   "cell_type": "code",
   "execution_count": 5,
   "metadata": {},
   "outputs": [
    {
     "name": "stderr",
     "output_type": "stream",
     "text": [
      "Epoch: 100%|██████████| 10/10 [00:09<00:00,  1.09it/s]\n"
     ]
    },
    {
     "data": {
      "text/html": [
       "<div>\n",
       "<style scoped>\n",
       "    .dataframe tbody tr th:only-of-type {\n",
       "        vertical-align: middle;\n",
       "    }\n",
       "\n",
       "    .dataframe tbody tr th {\n",
       "        vertical-align: top;\n",
       "    }\n",
       "\n",
       "    .dataframe thead th {\n",
       "        text-align: right;\n",
       "    }\n",
       "</style>\n",
       "<table border=\"1\" class=\"dataframe\">\n",
       "  <thead>\n",
       "    <tr style=\"text-align: right;\">\n",
       "      <th></th>\n",
       "      <th>0</th>\n",
       "      <th>1</th>\n",
       "      <th>2</th>\n",
       "      <th>3</th>\n",
       "    </tr>\n",
       "  </thead>\n",
       "  <tbody>\n",
       "    <tr>\n",
       "      <th>0</th>\n",
       "      <td>2.536711</td>\n",
       "      <td>1.042354</td>\n",
       "      <td>0.0</td>\n",
       "      <td>1.452901</td>\n",
       "    </tr>\n",
       "    <tr>\n",
       "      <th>1</th>\n",
       "      <td>3.452708</td>\n",
       "      <td>0.527383</td>\n",
       "      <td>0.0</td>\n",
       "      <td>1.522696</td>\n",
       "    </tr>\n",
       "    <tr>\n",
       "      <th>2</th>\n",
       "      <td>2.792605</td>\n",
       "      <td>0.277383</td>\n",
       "      <td>0.0</td>\n",
       "      <td>0.801463</td>\n",
       "    </tr>\n",
       "    <tr>\n",
       "      <th>3</th>\n",
       "      <td>3.185599</td>\n",
       "      <td>1.000851</td>\n",
       "      <td>0.0</td>\n",
       "      <td>1.137364</td>\n",
       "    </tr>\n",
       "    <tr>\n",
       "      <th>4</th>\n",
       "      <td>3.499744</td>\n",
       "      <td>0.545892</td>\n",
       "      <td>0.0</td>\n",
       "      <td>0.904989</td>\n",
       "    </tr>\n",
       "  </tbody>\n",
       "</table>\n",
       "</div>"
      ],
      "text/plain": [
       "          0         1    2         3\n",
       "0  2.536711  1.042354  0.0  1.452901\n",
       "1  3.452708  0.527383  0.0  1.522696\n",
       "2  2.792605  0.277383  0.0  0.801463\n",
       "3  3.185599  1.000851  0.0  1.137364\n",
       "4  3.499744  0.545892  0.0  0.904989"
      ]
     },
     "execution_count": 5,
     "metadata": {},
     "output_type": "execute_result"
    }
   ],
   "source": [
    "model_gpu = SygnetModel(mode = \"wgan\")\n",
    "model_gpu.fit(data = sim_data, epochs = 10, device='cuda')\n",
    "synth_data = model_gpu.sample(nobs = 100)\n",
    "\n",
    "synth_data.head()"
   ]
  }
 ],
 "metadata": {
  "interpreter": {
   "hash": "2ae1b0b5a0606c2753749f3391e09e88dfd388b1a3a29c5d6e8dce6eac02598d"
  },
  "kernelspec": {
   "display_name": "Python 3.9.12 ('dl')",
   "language": "python",
   "name": "python3"
  },
  "language_info": {
   "codemirror_mode": {
    "name": "ipython",
    "version": 3
   },
   "file_extension": ".py",
   "mimetype": "text/x-python",
   "name": "python",
   "nbconvert_exporter": "python",
   "pygments_lexer": "ipython3",
   "version": "3.9.12"
  },
  "orig_nbformat": 4
 },
 "nbformat": 4,
 "nbformat_minor": 2
}
