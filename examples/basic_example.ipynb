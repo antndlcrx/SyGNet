{
 "cells": [
  {
   "cell_type": "markdown",
   "metadata": {},
   "source": [
    "# Using SyGNet\n",
    "\n",
    "This notebook demonstrates the basic functionality of the **sygnet** package in Python.\n",
    "\n",
    "To download the package, simply run `pip install sygnet` at the command line.\n",
    "\n",
    "## Prerequisites\n",
    "\n",
    "To start, we load the required packages and define a data generating process (DGP)."
   ]
  },
  {
   "cell_type": "code",
   "execution_count": 1,
   "metadata": {},
   "outputs": [],
   "source": [
    "%%capture\n",
    "%cd ..\n",
    "\n",
    "import pandas as pd\n",
    "import numpy as np\n",
    "from numpy.random import default_rng\n",
    "\n",
    "# NB: once installed via pip, can run `from sygnet import SygnetModel`\n",
    "from src.sygnet.sygnet_interface import SygnetModel\n"
   ]
  },
  {
   "cell_type": "markdown",
   "metadata": {},
   "source": [
    "Next, we will focus on a very simple case of learning a parametric relationship between numeric variables.The DGP comprises two random uniform variables (`x1` and `x2`), which in turn impact the value of two other variables (`x3` and `y`). Once defined, we take 100,000 draws from this DGP to use as our training data:"
   ]
  },
  {
   "cell_type": "code",
   "execution_count": 2,
   "metadata": {},
   "outputs": [
    {
     "data": {
      "text/html": [
       "<div>\n",
       "<style scoped>\n",
       "    .dataframe tbody tr th:only-of-type {\n",
       "        vertical-align: middle;\n",
       "    }\n",
       "\n",
       "    .dataframe tbody tr th {\n",
       "        vertical-align: top;\n",
       "    }\n",
       "\n",
       "    .dataframe thead th {\n",
       "        text-align: right;\n",
       "    }\n",
       "</style>\n",
       "<table border=\"1\" class=\"dataframe\">\n",
       "  <thead>\n",
       "    <tr style=\"text-align: right;\">\n",
       "      <th></th>\n",
       "      <th>x1</th>\n",
       "      <th>x2</th>\n",
       "      <th>x3</th>\n",
       "      <th>y</th>\n",
       "    </tr>\n",
       "  </thead>\n",
       "  <tbody>\n",
       "    <tr>\n",
       "      <th>0</th>\n",
       "      <td>0.955283</td>\n",
       "      <td>0.750947</td>\n",
       "      <td>1.577567</td>\n",
       "      <td>6.774734</td>\n",
       "    </tr>\n",
       "    <tr>\n",
       "      <th>1</th>\n",
       "      <td>0.959211</td>\n",
       "      <td>0.375207</td>\n",
       "      <td>1.438572</td>\n",
       "      <td>4.508613</td>\n",
       "    </tr>\n",
       "    <tr>\n",
       "      <th>2</th>\n",
       "      <td>0.478289</td>\n",
       "      <td>0.827375</td>\n",
       "      <td>1.194855</td>\n",
       "      <td>2.594680</td>\n",
       "    </tr>\n",
       "    <tr>\n",
       "      <th>3</th>\n",
       "      <td>0.332720</td>\n",
       "      <td>0.127708</td>\n",
       "      <td>0.558522</td>\n",
       "      <td>0.464812</td>\n",
       "    </tr>\n",
       "    <tr>\n",
       "      <th>4</th>\n",
       "      <td>0.122932</td>\n",
       "      <td>0.066068</td>\n",
       "      <td>0.077215</td>\n",
       "      <td>2.008986</td>\n",
       "    </tr>\n",
       "  </tbody>\n",
       "</table>\n",
       "</div>"
      ],
      "text/plain": [
       "         x1        x2        x3         y\n",
       "0  0.955283  0.750947  1.577567  6.774734\n",
       "1  0.959211  0.375207  1.438572  4.508613\n",
       "2  0.478289  0.827375  1.194855  2.594680\n",
       "3  0.332720  0.127708  0.558522  0.464812\n",
       "4  0.122932  0.066068  0.077215  2.008986"
      ]
     },
     "execution_count": 2,
     "metadata": {},
     "output_type": "execute_result"
    }
   ],
   "source": [
    "rng = default_rng()\n",
    "\n",
    "def gen_sim_data(rng, n=100000):\n",
    "    \n",
    "    x1 = rng.uniform(low = 0, high = 1, size = n)\n",
    "    x2 = rng.uniform(low = 0, high = 1, size = n)\n",
    "    x3 = rng.normal(loc = x1 + x2, scale = 0.1)\n",
    "    y = rng.normal(loc=3*x1 + 2*x2 + 1, scale = 1)\n",
    "\n",
    "    sim_data = pd.DataFrame({\n",
    "        'x1' : x1,\n",
    "        'x2' : x2,\n",
    "        'x3' : x3,\n",
    "        'y' : y\n",
    "    })   \n",
    "\n",
    "    return sim_data\n",
    "\n",
    "train_data = gen_sim_data(rng)\n",
    "train_data.head()"
   ]
  },
  {
   "cell_type": "markdown",
   "metadata": {},
   "source": [
    "## **sygnet** pipeline\n",
    "\n",
    "We follow a very similar pipeline to sci-kit learn: \n",
    "\n",
    "1. Instantiate a model:\n",
    "   * Users must specify what type of GAN architecture to use: we recommend \"wgan\" for non-conditional synthetic data, and \"cgan\" when conditional labels will be supplied \n",
    "   * Optional arguments allow the user to customise the hidden layer structure, dropout proportions, layer norming, ReLU leakage, and whether to range match the final output\n",
    "2. Fit the model to the training data\n",
    "   * Users must supply the training data\n",
    "   * Optional arguments allow the user to alter the default hyperparameters (epochs, learning rate, batch size etc.)\n",
    "3. Sample from the trained model\n",
    "   * Users must specify the number of synthetic observations to draw from the model\n",
    "   * Optional arguments allow the user to control the format of the returned results, as well as to save the synthetic data to disk\n",
    "\n"
   ]
  },
  {
   "cell_type": "markdown",
   "metadata": {},
   "source": [
    "## Basic example\n",
    "\n",
    "In this first example, we set `mode = \"wgan\"` to use the Wassterstein GAN architecture. We fit the model to our simulated data, for a single epoch (real uses will require more epochs), and then generate 100 synthetic observations:"
   ]
  },
  {
   "cell_type": "code",
   "execution_count": 3,
   "metadata": {},
   "outputs": [
    {
     "name": "stderr",
     "output_type": "stream",
     "text": [
      "Epoch: 100%|██████████| 1/1 [00:07<00:00,  7.59s/it]\n"
     ]
    },
    {
     "data": {
      "text/html": [
       "<div>\n",
       "<style scoped>\n",
       "    .dataframe tbody tr th:only-of-type {\n",
       "        vertical-align: middle;\n",
       "    }\n",
       "\n",
       "    .dataframe tbody tr th {\n",
       "        vertical-align: top;\n",
       "    }\n",
       "\n",
       "    .dataframe thead th {\n",
       "        text-align: right;\n",
       "    }\n",
       "</style>\n",
       "<table border=\"1\" class=\"dataframe\">\n",
       "  <thead>\n",
       "    <tr style=\"text-align: right;\">\n",
       "      <th></th>\n",
       "      <th>x1</th>\n",
       "      <th>x2</th>\n",
       "      <th>x3</th>\n",
       "      <th>y</th>\n",
       "    </tr>\n",
       "  </thead>\n",
       "  <tbody>\n",
       "    <tr>\n",
       "      <th>0</th>\n",
       "      <td>-0.261301</td>\n",
       "      <td>-1.672521</td>\n",
       "      <td>0.000000</td>\n",
       "      <td>0.986449</td>\n",
       "    </tr>\n",
       "    <tr>\n",
       "      <th>1</th>\n",
       "      <td>0.621772</td>\n",
       "      <td>-2.204374</td>\n",
       "      <td>0.034815</td>\n",
       "      <td>1.836472</td>\n",
       "    </tr>\n",
       "    <tr>\n",
       "      <th>2</th>\n",
       "      <td>-0.281299</td>\n",
       "      <td>-1.651041</td>\n",
       "      <td>0.034763</td>\n",
       "      <td>1.578335</td>\n",
       "    </tr>\n",
       "    <tr>\n",
       "      <th>3</th>\n",
       "      <td>-0.038010</td>\n",
       "      <td>-1.524639</td>\n",
       "      <td>0.000000</td>\n",
       "      <td>0.873217</td>\n",
       "    </tr>\n",
       "    <tr>\n",
       "      <th>4</th>\n",
       "      <td>-0.058963</td>\n",
       "      <td>-1.948267</td>\n",
       "      <td>0.759016</td>\n",
       "      <td>0.864480</td>\n",
       "    </tr>\n",
       "  </tbody>\n",
       "</table>\n",
       "</div>"
      ],
      "text/plain": [
       "         x1        x2        x3         y\n",
       "0 -0.261301 -1.672521  0.000000  0.986449\n",
       "1  0.621772 -2.204374  0.034815  1.836472\n",
       "2 -0.281299 -1.651041  0.034763  1.578335\n",
       "3 -0.038010 -1.524639  0.000000  0.873217\n",
       "4 -0.058963 -1.948267  0.759016  0.864480"
      ]
     },
     "execution_count": 3,
     "metadata": {},
     "output_type": "execute_result"
    }
   ],
   "source": [
    "model = SygnetModel(mode = \"wgan\")\n",
    "model.fit(data = train_data, epochs = 1)\n",
    "synth_data = model.sample(nobs = 1000)\n",
    "\n",
    "synth_data.head()"
   ]
  },
  {
   "cell_type": "markdown",
   "metadata": {},
   "source": [
    "### GPU support\n",
    "\n",
    "**sygnet** allows users to train the model using GPU computation, which should improve training times considerably. To run the synthetic generator on the GPU, we simply fit the model with the parameter `device = 'cuda'`. Here we are able to run 10 epochs in about as long as it takes to run 1 epoch on the CPU:"
   ]
  },
  {
   "cell_type": "code",
   "execution_count": 4,
   "metadata": {},
   "outputs": [
    {
     "name": "stderr",
     "output_type": "stream",
     "text": [
      "Epoch: 100%|██████████| 10/10 [00:08<00:00,  1.20it/s]\n"
     ]
    },
    {
     "data": {
      "text/html": [
       "<div>\n",
       "<style scoped>\n",
       "    .dataframe tbody tr th:only-of-type {\n",
       "        vertical-align: middle;\n",
       "    }\n",
       "\n",
       "    .dataframe tbody tr th {\n",
       "        vertical-align: top;\n",
       "    }\n",
       "\n",
       "    .dataframe thead th {\n",
       "        text-align: right;\n",
       "    }\n",
       "</style>\n",
       "<table border=\"1\" class=\"dataframe\">\n",
       "  <thead>\n",
       "    <tr style=\"text-align: right;\">\n",
       "      <th></th>\n",
       "      <th>x1</th>\n",
       "      <th>x2</th>\n",
       "      <th>x3</th>\n",
       "      <th>y</th>\n",
       "    </tr>\n",
       "  </thead>\n",
       "  <tbody>\n",
       "    <tr>\n",
       "      <th>0</th>\n",
       "      <td>1.599184</td>\n",
       "      <td>1.105982</td>\n",
       "      <td>0.0</td>\n",
       "      <td>4.085353</td>\n",
       "    </tr>\n",
       "    <tr>\n",
       "      <th>1</th>\n",
       "      <td>1.200614</td>\n",
       "      <td>0.682166</td>\n",
       "      <td>0.0</td>\n",
       "      <td>4.840001</td>\n",
       "    </tr>\n",
       "    <tr>\n",
       "      <th>2</th>\n",
       "      <td>1.547181</td>\n",
       "      <td>0.740852</td>\n",
       "      <td>0.0</td>\n",
       "      <td>4.503998</td>\n",
       "    </tr>\n",
       "    <tr>\n",
       "      <th>3</th>\n",
       "      <td>1.180196</td>\n",
       "      <td>1.247587</td>\n",
       "      <td>0.0</td>\n",
       "      <td>3.763865</td>\n",
       "    </tr>\n",
       "    <tr>\n",
       "      <th>4</th>\n",
       "      <td>1.494661</td>\n",
       "      <td>0.882131</td>\n",
       "      <td>0.0</td>\n",
       "      <td>4.203248</td>\n",
       "    </tr>\n",
       "  </tbody>\n",
       "</table>\n",
       "</div>"
      ],
      "text/plain": [
       "         x1        x2   x3         y\n",
       "0  1.599184  1.105982  0.0  4.085353\n",
       "1  1.200614  0.682166  0.0  4.840001\n",
       "2  1.547181  0.740852  0.0  4.503998\n",
       "3  1.180196  1.247587  0.0  3.763865\n",
       "4  1.494661  0.882131  0.0  4.203248"
      ]
     },
     "execution_count": 4,
     "metadata": {},
     "output_type": "execute_result"
    }
   ],
   "source": [
    "model_gpu = SygnetModel(mode = \"wgan\")\n",
    "model_gpu.fit(data = train_data, epochs = 10, device='cuda')\n",
    "synth_data = model_gpu.sample(nobs = 1000)\n",
    "\n",
    "synth_data.head()"
   ]
  },
  {
   "cell_type": "markdown",
   "metadata": {},
   "source": [
    "## Custom architectures\n",
    "\n",
    "The above models are trained on the default parameters and for a short number of epochs. They are therefore not well-trained (as can be seen in the resulting synthetic data).\n",
    "\n",
    "To improve our models, we can adjust the hyperparameter settings of our model. \n",
    "\n"
   ]
  },
  {
   "cell_type": "code",
   "execution_count": 11,
   "metadata": {},
   "outputs": [
    {
     "name": "stderr",
     "output_type": "stream",
     "text": [
      "Epoch:  16%|█▌        | 16/100 [00:49<04:20,  3.10s/it]\n"
     ]
    },
    {
     "ename": "KeyboardInterrupt",
     "evalue": "",
     "output_type": "error",
     "traceback": [
      "\u001b[0;31m---------------------------------------------------------------------------\u001b[0m",
      "\u001b[0;31mKeyboardInterrupt\u001b[0m                         Traceback (most recent call last)",
      "\u001b[1;32m/home/tsr/Dropbox/sygnet_public/examples/basic_example.ipynb Cell 11'\u001b[0m in \u001b[0;36m<cell line: 3>\u001b[0;34m()\u001b[0m\n\u001b[1;32m      <a href='vscode-notebook-cell:/home/tsr/Dropbox/sygnet_public/examples/basic_example.ipynb#ch0000010?line=0'>1</a>\u001b[0m model_custom \u001b[39m=\u001b[39m SygnetModel(mode \u001b[39m=\u001b[39m \u001b[39m\"\u001b[39m\u001b[39mwgan\u001b[39m\u001b[39m\"\u001b[39m, dropout_p\u001b[39m=\u001b[39m\u001b[39m0.1\u001b[39m)\n\u001b[0;32m----> <a href='vscode-notebook-cell:/home/tsr/Dropbox/sygnet_public/examples/basic_example.ipynb#ch0000010?line=2'>3</a>\u001b[0m model_custom\u001b[39m.\u001b[39;49mfit(\n\u001b[1;32m      <a href='vscode-notebook-cell:/home/tsr/Dropbox/sygnet_public/examples/basic_example.ipynb#ch0000010?line=3'>4</a>\u001b[0m     train_data, \n\u001b[1;32m      <a href='vscode-notebook-cell:/home/tsr/Dropbox/sygnet_public/examples/basic_example.ipynb#ch0000010?line=4'>5</a>\u001b[0m     device \u001b[39m=\u001b[39;49m \u001b[39m'\u001b[39;49m\u001b[39mcuda\u001b[39;49m\u001b[39m'\u001b[39;49m, \n\u001b[1;32m      <a href='vscode-notebook-cell:/home/tsr/Dropbox/sygnet_public/examples/basic_example.ipynb#ch0000010?line=5'>6</a>\u001b[0m     epochs \u001b[39m=\u001b[39;49m \u001b[39m100\u001b[39;49m, \n\u001b[1;32m      <a href='vscode-notebook-cell:/home/tsr/Dropbox/sygnet_public/examples/basic_example.ipynb#ch0000010?line=6'>7</a>\u001b[0m     batch_size\u001b[39m=\u001b[39;49m\u001b[39m512\u001b[39;49m,\n\u001b[1;32m      <a href='vscode-notebook-cell:/home/tsr/Dropbox/sygnet_public/examples/basic_example.ipynb#ch0000010?line=7'>8</a>\u001b[0m     learning_rate\u001b[39m=\u001b[39;49m\u001b[39m0.001\u001b[39;49m\n\u001b[1;32m      <a href='vscode-notebook-cell:/home/tsr/Dropbox/sygnet_public/examples/basic_example.ipynb#ch0000010?line=8'>9</a>\u001b[0m )\n\u001b[1;32m     <a href='vscode-notebook-cell:/home/tsr/Dropbox/sygnet_public/examples/basic_example.ipynb#ch0000010?line=10'>11</a>\u001b[0m synth_data \u001b[39m=\u001b[39m model_custom\u001b[39m.\u001b[39msample(\u001b[39m1000\u001b[39m)\n",
      "File \u001b[0;32m~/Dropbox/sygnet_public/src/sygnet/sygnet_interface.py:217\u001b[0m, in \u001b[0;36mSygnetModel.fit\u001b[0;34m(self, data, cond_cols, epochs, device, batch_size, learning_rate, adam_betas, lmbda, use_tensorboard)\u001b[0m\n\u001b[1;32m    <a href='file:///home/tsr/Dropbox/sygnet_public/src/sygnet/sygnet_interface.py?line=205'>206</a>\u001b[0m     \u001b[39mreturn\u001b[39;00m train_basic(\n\u001b[1;32m    <a href='file:///home/tsr/Dropbox/sygnet_public/src/sygnet/sygnet_interface.py?line=206'>207</a>\u001b[0m         training_data \u001b[39m=\u001b[39m torch_data, \n\u001b[1;32m    <a href='file:///home/tsr/Dropbox/sygnet_public/src/sygnet/sygnet_interface.py?line=207'>208</a>\u001b[0m         generator \u001b[39m=\u001b[39m \u001b[39mself\u001b[39m\u001b[39m.\u001b[39mgenerator, \n\u001b[0;32m   (...)\u001b[0m\n\u001b[1;32m    <a href='file:///home/tsr/Dropbox/sygnet_public/src/sygnet/sygnet_interface.py?line=213'>214</a>\u001b[0m         use_tensorboard \u001b[39m=\u001b[39m use_tensorboard\n\u001b[1;32m    <a href='file:///home/tsr/Dropbox/sygnet_public/src/sygnet/sygnet_interface.py?line=214'>215</a>\u001b[0m     )\n\u001b[1;32m    <a href='file:///home/tsr/Dropbox/sygnet_public/src/sygnet/sygnet_interface.py?line=215'>216</a>\u001b[0m \u001b[39melif\u001b[39;00m \u001b[39mself\u001b[39m\u001b[39m.\u001b[39mmode \u001b[39m==\u001b[39m \u001b[39m\"\u001b[39m\u001b[39mwgan\u001b[39m\u001b[39m\"\u001b[39m:\n\u001b[0;32m--> <a href='file:///home/tsr/Dropbox/sygnet_public/src/sygnet/sygnet_interface.py?line=216'>217</a>\u001b[0m     \u001b[39mreturn\u001b[39;00m train_wgan(\n\u001b[1;32m    <a href='file:///home/tsr/Dropbox/sygnet_public/src/sygnet/sygnet_interface.py?line=217'>218</a>\u001b[0m         training_data \u001b[39m=\u001b[39;49m torch_data, \n\u001b[1;32m    <a href='file:///home/tsr/Dropbox/sygnet_public/src/sygnet/sygnet_interface.py?line=218'>219</a>\u001b[0m         generator \u001b[39m=\u001b[39;49m \u001b[39mself\u001b[39;49m\u001b[39m.\u001b[39;49mgenerator, \n\u001b[1;32m    <a href='file:///home/tsr/Dropbox/sygnet_public/src/sygnet/sygnet_interface.py?line=219'>220</a>\u001b[0m         critic \u001b[39m=\u001b[39;49m \u001b[39mself\u001b[39;49m\u001b[39m.\u001b[39;49mdiscriminator,\n\u001b[1;32m    <a href='file:///home/tsr/Dropbox/sygnet_public/src/sygnet/sygnet_interface.py?line=220'>221</a>\u001b[0m         epochs \u001b[39m=\u001b[39;49m epochs, \n\u001b[1;32m    <a href='file:///home/tsr/Dropbox/sygnet_public/src/sygnet/sygnet_interface.py?line=221'>222</a>\u001b[0m         device \u001b[39m=\u001b[39;49m device,\n\u001b[1;32m    <a href='file:///home/tsr/Dropbox/sygnet_public/src/sygnet/sygnet_interface.py?line=222'>223</a>\u001b[0m         batch_size \u001b[39m=\u001b[39;49m batch_size,\n\u001b[1;32m    <a href='file:///home/tsr/Dropbox/sygnet_public/src/sygnet/sygnet_interface.py?line=223'>224</a>\u001b[0m         learning_rate \u001b[39m=\u001b[39;49m learning_rate,\n\u001b[1;32m    <a href='file:///home/tsr/Dropbox/sygnet_public/src/sygnet/sygnet_interface.py?line=224'>225</a>\u001b[0m         adam_betas \u001b[39m=\u001b[39;49m adam_betas,\n\u001b[1;32m    <a href='file:///home/tsr/Dropbox/sygnet_public/src/sygnet/sygnet_interface.py?line=225'>226</a>\u001b[0m         lmbda \u001b[39m=\u001b[39;49m lmbda,\n\u001b[1;32m    <a href='file:///home/tsr/Dropbox/sygnet_public/src/sygnet/sygnet_interface.py?line=226'>227</a>\u001b[0m         use_tensorboard \u001b[39m=\u001b[39;49m use_tensorboard\n\u001b[1;32m    <a href='file:///home/tsr/Dropbox/sygnet_public/src/sygnet/sygnet_interface.py?line=227'>228</a>\u001b[0m     )\n\u001b[1;32m    <a href='file:///home/tsr/Dropbox/sygnet_public/src/sygnet/sygnet_interface.py?line=228'>229</a>\u001b[0m \u001b[39melif\u001b[39;00m \u001b[39mself\u001b[39m\u001b[39m.\u001b[39mmode \u001b[39m==\u001b[39m \u001b[39m\"\u001b[39m\u001b[39mcgan\u001b[39m\u001b[39m\"\u001b[39m:\n\u001b[1;32m    <a href='file:///home/tsr/Dropbox/sygnet_public/src/sygnet/sygnet_interface.py?line=229'>230</a>\u001b[0m     \u001b[39mreturn\u001b[39;00m train_conditional(\n\u001b[1;32m    <a href='file:///home/tsr/Dropbox/sygnet_public/src/sygnet/sygnet_interface.py?line=230'>231</a>\u001b[0m         training_data \u001b[39m=\u001b[39m torch_data, \n\u001b[1;32m    <a href='file:///home/tsr/Dropbox/sygnet_public/src/sygnet/sygnet_interface.py?line=231'>232</a>\u001b[0m         generator \u001b[39m=\u001b[39m \u001b[39mself\u001b[39m\u001b[39m.\u001b[39mgenerator, \n\u001b[0;32m   (...)\u001b[0m\n\u001b[1;32m    <a href='file:///home/tsr/Dropbox/sygnet_public/src/sygnet/sygnet_interface.py?line=239'>240</a>\u001b[0m         use_tensorboard \u001b[39m=\u001b[39m use_tensorboard\n\u001b[1;32m    <a href='file:///home/tsr/Dropbox/sygnet_public/src/sygnet/sygnet_interface.py?line=240'>241</a>\u001b[0m     )\n",
      "File \u001b[0;32m~/Dropbox/sygnet_public/src/sygnet/sygnet_train.py:196\u001b[0m, in \u001b[0;36mtrain_wgan\u001b[0;34m(training_data, generator, critic, epochs, device, batch_size, learning_rate, adam_betas, lmbda, use_tensorboard)\u001b[0m\n\u001b[1;32m    <a href='file:///home/tsr/Dropbox/sygnet_public/src/sygnet/sygnet_train.py?line=192'>193</a>\u001b[0m critic_grad_penalty \u001b[39m=\u001b[39m ((grad\u001b[39m.\u001b[39mnorm(\u001b[39m2\u001b[39m, dim\u001b[39m=\u001b[39m\u001b[39m1\u001b[39m) \u001b[39m-\u001b[39m\u001b[39m1\u001b[39m)\u001b[39m*\u001b[39m\u001b[39m*\u001b[39m\u001b[39m2\u001b[39m)\n\u001b[1;32m    <a href='file:///home/tsr/Dropbox/sygnet_public/src/sygnet/sygnet_train.py?line=194'>195</a>\u001b[0m error_critic \u001b[39m=\u001b[39m (critic_score_fake \u001b[39m-\u001b[39m critic_score_real)\u001b[39m.\u001b[39mmean() \u001b[39m+\u001b[39m critic_grad_penalty\u001b[39m.\u001b[39mmean()\u001b[39m*\u001b[39mlmbda\n\u001b[0;32m--> <a href='file:///home/tsr/Dropbox/sygnet_public/src/sygnet/sygnet_train.py?line=195'>196</a>\u001b[0m error_critic\u001b[39m.\u001b[39;49mbackward()\n\u001b[1;32m    <a href='file:///home/tsr/Dropbox/sygnet_public/src/sygnet/sygnet_train.py?line=196'>197</a>\u001b[0m critic_optimizer\u001b[39m.\u001b[39mstep()\n\u001b[1;32m    <a href='file:///home/tsr/Dropbox/sygnet_public/src/sygnet/sygnet_train.py?line=198'>199</a>\u001b[0m \u001b[39m## Sort out the generator\u001b[39;00m\n\u001b[1;32m    <a href='file:///home/tsr/Dropbox/sygnet_public/src/sygnet/sygnet_train.py?line=199'>200</a>\u001b[0m \u001b[39m# Re-zero gradients\u001b[39;00m\n",
      "File \u001b[0;32m~/anaconda3/envs/dl/lib/python3.9/site-packages/torch/_tensor.py:363\u001b[0m, in \u001b[0;36mTensor.backward\u001b[0;34m(self, gradient, retain_graph, create_graph, inputs)\u001b[0m\n\u001b[1;32m    <a href='file:///home/tsr/anaconda3/envs/dl/lib/python3.9/site-packages/torch/_tensor.py?line=353'>354</a>\u001b[0m \u001b[39mif\u001b[39;00m has_torch_function_unary(\u001b[39mself\u001b[39m):\n\u001b[1;32m    <a href='file:///home/tsr/anaconda3/envs/dl/lib/python3.9/site-packages/torch/_tensor.py?line=354'>355</a>\u001b[0m     \u001b[39mreturn\u001b[39;00m handle_torch_function(\n\u001b[1;32m    <a href='file:///home/tsr/anaconda3/envs/dl/lib/python3.9/site-packages/torch/_tensor.py?line=355'>356</a>\u001b[0m         Tensor\u001b[39m.\u001b[39mbackward,\n\u001b[1;32m    <a href='file:///home/tsr/anaconda3/envs/dl/lib/python3.9/site-packages/torch/_tensor.py?line=356'>357</a>\u001b[0m         (\u001b[39mself\u001b[39m,),\n\u001b[0;32m   (...)\u001b[0m\n\u001b[1;32m    <a href='file:///home/tsr/anaconda3/envs/dl/lib/python3.9/site-packages/torch/_tensor.py?line=360'>361</a>\u001b[0m         create_graph\u001b[39m=\u001b[39mcreate_graph,\n\u001b[1;32m    <a href='file:///home/tsr/anaconda3/envs/dl/lib/python3.9/site-packages/torch/_tensor.py?line=361'>362</a>\u001b[0m         inputs\u001b[39m=\u001b[39minputs)\n\u001b[0;32m--> <a href='file:///home/tsr/anaconda3/envs/dl/lib/python3.9/site-packages/torch/_tensor.py?line=362'>363</a>\u001b[0m torch\u001b[39m.\u001b[39;49mautograd\u001b[39m.\u001b[39;49mbackward(\u001b[39mself\u001b[39;49m, gradient, retain_graph, create_graph, inputs\u001b[39m=\u001b[39;49minputs)\n",
      "File \u001b[0;32m~/anaconda3/envs/dl/lib/python3.9/site-packages/torch/autograd/__init__.py:173\u001b[0m, in \u001b[0;36mbackward\u001b[0;34m(tensors, grad_tensors, retain_graph, create_graph, grad_variables, inputs)\u001b[0m\n\u001b[1;32m    <a href='file:///home/tsr/anaconda3/envs/dl/lib/python3.9/site-packages/torch/autograd/__init__.py?line=167'>168</a>\u001b[0m     retain_graph \u001b[39m=\u001b[39m create_graph\n\u001b[1;32m    <a href='file:///home/tsr/anaconda3/envs/dl/lib/python3.9/site-packages/torch/autograd/__init__.py?line=169'>170</a>\u001b[0m \u001b[39m# The reason we repeat same the comment below is that\u001b[39;00m\n\u001b[1;32m    <a href='file:///home/tsr/anaconda3/envs/dl/lib/python3.9/site-packages/torch/autograd/__init__.py?line=170'>171</a>\u001b[0m \u001b[39m# some Python versions print out the first line of a multi-line function\u001b[39;00m\n\u001b[1;32m    <a href='file:///home/tsr/anaconda3/envs/dl/lib/python3.9/site-packages/torch/autograd/__init__.py?line=171'>172</a>\u001b[0m \u001b[39m# calls in the traceback and some print out the last line\u001b[39;00m\n\u001b[0;32m--> <a href='file:///home/tsr/anaconda3/envs/dl/lib/python3.9/site-packages/torch/autograd/__init__.py?line=172'>173</a>\u001b[0m Variable\u001b[39m.\u001b[39;49m_execution_engine\u001b[39m.\u001b[39;49mrun_backward(  \u001b[39m# Calls into the C++ engine to run the backward pass\u001b[39;49;00m\n\u001b[1;32m    <a href='file:///home/tsr/anaconda3/envs/dl/lib/python3.9/site-packages/torch/autograd/__init__.py?line=173'>174</a>\u001b[0m     tensors, grad_tensors_, retain_graph, create_graph, inputs,\n\u001b[1;32m    <a href='file:///home/tsr/anaconda3/envs/dl/lib/python3.9/site-packages/torch/autograd/__init__.py?line=174'>175</a>\u001b[0m     allow_unreachable\u001b[39m=\u001b[39;49m\u001b[39mTrue\u001b[39;49;00m, accumulate_grad\u001b[39m=\u001b[39;49m\u001b[39mTrue\u001b[39;49;00m)\n",
      "\u001b[0;31mKeyboardInterrupt\u001b[0m: "
     ]
    }
   ],
   "source": [
    "model_custom = SygnetModel(mode = \"wgan\", dropout_p=0.1)\n",
    "\n",
    "model_custom.fit(\n",
    "    train_data, \n",
    "    device = 'cuda', \n",
    "    epochs = 50, \n",
    "    batch_size=512,\n",
    "    learning_rate=0.001\n",
    ")\n",
    "\n",
    "synth_data = model_custom.sample(1000)"
   ]
  },
  {
   "cell_type": "markdown",
   "metadata": {},
   "source": [
    "To assess the quality of our model, we can see how well the synthetic data outcome variable `y` is modelled by the synthetic independent variables. To do so, we can regress `y` on `x1` and `x2`. Recall that in our DGP $$y \\sim \\mathcal{N}(\\mu = 3\\times X_1 + 2 \\times X_2 + 1, \\sigma).$$ Therefore, we should expect the coefficient vector to be close to `[3,2,1]`. "
   ]
  },
  {
   "cell_type": "code",
   "execution_count": 12,
   "metadata": {},
   "outputs": [
    {
     "name": "stdout",
     "output_type": "stream",
     "text": [
      "Synthetic coefficients = [3.5488946437835693, 1.5444843769073486, -0.28509402]\n"
     ]
    }
   ],
   "source": [
    "from sklearn.linear_model import LinearRegression\n",
    "\n",
    "synth_data = model_custom.sample(100000)\n",
    "reg = LinearRegression().fit(synth_data.drop(['y','x3'], axis=1), synth_data['y'])\n",
    "\n",
    "print(f\"Synthetic coefficients = {reg.coef_.tolist() + [reg.intercept_]}\")\n"
   ]
  },
  {
   "cell_type": "markdown",
   "metadata": {},
   "source": [
    "We find that, while the relationship is not perfectly captured, we nevertheless get data that resembles that relationship."
   ]
  }
 ],
 "metadata": {
  "interpreter": {
   "hash": "2ae1b0b5a0606c2753749f3391e09e88dfd388b1a3a29c5d6e8dce6eac02598d"
  },
  "kernelspec": {
   "display_name": "Python 3.9.12 ('dl')",
   "language": "python",
   "name": "python3"
  },
  "language_info": {
   "codemirror_mode": {
    "name": "ipython",
    "version": 3
   },
   "file_extension": ".py",
   "mimetype": "text/x-python",
   "name": "python",
   "nbconvert_exporter": "python",
   "pygments_lexer": "ipython3",
   "version": "3.9.12"
  },
  "orig_nbformat": 4
 },
 "nbformat": 4,
 "nbformat_minor": 2
}
